{
 "cells": [
  {
   "cell_type": "code",
   "execution_count": 42,
   "metadata": {},
   "outputs": [
    {
     "name": "stderr",
     "output_type": "stream",
     "text": [
      "C:\\Program Files\\Anaconda3\\lib\\site-packages\\sklearn\\model_selection\\_split.py:2179: FutureWarning: From version 0.21, test_size will always complement train_size unless both are specified.\n",
      "  FutureWarning)\n",
      "C:\\Program Files\\Anaconda3\\lib\\site-packages\\sklearn\\linear_model\\logistic.py:433: FutureWarning: Default solver will be changed to 'lbfgs' in 0.22. Specify a solver to silence this warning.\n",
      "  FutureWarning)\n"
     ]
    },
    {
     "name": "stdout",
     "output_type": "stream",
     "text": [
      "Prediction:\n",
      "['neg' 'pos' 'neg' 'pos' 'neg' 'pos' 'neg' 'neg' 'pos' 'pos']\n",
      "\n",
      "Tweets:\n",
      "                                                      0\n",
      "927         \"@RumLover No! u supposed to be my date \"\\n\n",
      "294   \"ahhhh time to feed the tribe lol chicken cass...\n",
      "713   \"@ddlovato I will add prayers for your friends...\n",
      "252   \"@tashlee Oh, and good to hear from you again!...\n",
      "1728        \"on my psp, it has skype! no mic though \"\\n\n",
      "18    \"@amysav83 i hve 2 leave 4 work :O i posted a ...\n",
      "1507  \"is @ maccas using his iPod touch 2 twitted LO...\n",
      "156   \"@luvsJonasandVFC YUP! I'm seeing them in Augu...\n",
      "342   \"Enjoying a nice cup of tea and watching Norwa...\n",
      "145   \"@Lee_Knight lmao! thanks Lee XD, would u like...\n",
      "\n",
      "Accuracy= 0.8179551122194514\n"
     ]
    }
   ],
   "source": [
    "import sklearn\n",
    "import pandas as pd\n",
    "def load_data():\n",
    "    data = []\n",
    "    data_labels = []\n",
    "    with open(\"C:\\\\Users\\\\LENOVO\\\\Desktop\\\\CMPE-255-Assignments\\\\Lab-3\\\\pos_tweets.txt\") as f:\n",
    "        for i in f: \n",
    "            data.append(i) \n",
    "            data_labels.append('pos')\n",
    "\n",
    "    with open(\"C:\\\\Users\\\\LENOVO\\\\Desktop\\\\CMPE-255-Assignments\\\\Lab-3\\\\neg_tweets.txt\") as f:\n",
    "        for i in f: \n",
    "            data.append(i)\n",
    "            data_labels.append('neg')\n",
    "    X = pd.DataFrame(data)\n",
    "    Y = pd.Series(data_labels)\n",
    "    \n",
    "    return data, data_labels, X, Y\n",
    "\n",
    "def transform_to_features(data):\n",
    "    from sklearn.feature_extraction.text import CountVectorizer\n",
    "    vectorizer = CountVectorizer(\n",
    "        analyzer = 'word',\n",
    "        lowercase = False,\n",
    "    )\n",
    "    features = vectorizer.fit_transform(\n",
    "        data\n",
    "    )\n",
    "    features_nd = features.toarray()\n",
    "    return features_nd\n",
    "\n",
    "def train_then_build_model(data_labels, features_nd, X, Y):\n",
    "    from sklearn.model_selection import train_test_split\n",
    "    # TODO : set training % to 80%.\n",
    "    X_train, X_test, y_train, y_test  = train_test_split(\n",
    "        features_nd, \n",
    "        data_labels,\n",
    "        train_size=0.80, \n",
    "        random_state=0)\n",
    "    \n",
    "    X_Data_train, X_Data_test, y_Data_train, y_Data_test  = train_test_split(\n",
    "        X, \n",
    "        Y,\n",
    "        train_size=0.80, \n",
    "        random_state=0)\n",
    "\n",
    "    from sklearn.linear_model import LogisticRegression\n",
    "    log_model = LogisticRegression()\n",
    "\n",
    "    log_model = log_model.fit(X=X_train, y=y_train)\n",
    "    y_pred = log_model.predict(X_test)\n",
    "\n",
    "     # ::{prediction}::{tweet}\n",
    "    print(\"Prediction:\")\n",
    "    prediction = y_pred[0:10]\n",
    "    print(prediction)\n",
    "    tweets = X_Data_test[0:10]\n",
    "    print()\n",
    "    print(\"Tweets:\");\n",
    "    print(tweets)\n",
    "   \n",
    "    # print accuracy\n",
    "    from sklearn.metrics import accuracy_score\n",
    "    # TODO\n",
    "    print()\n",
    "    print(\"Accuracy=\",accuracy_score(y_test, y_pred))\n",
    "\n",
    "def process():\n",
    "    data, data_labels, X, Y = load_data()\n",
    "    features_nd = transform_to_features(data)\n",
    "    train_then_build_model(data_labels, features_nd , X, Y)\n",
    "\n",
    "\n",
    "process()"
   ]
  },
  {
   "cell_type": "code",
   "execution_count": null,
   "metadata": {},
   "outputs": [],
   "source": []
  }
 ],
 "metadata": {
  "kernelspec": {
   "display_name": "Python 3",
   "language": "python",
   "name": "python3"
  },
  "language_info": {
   "codemirror_mode": {
    "name": "ipython",
    "version": 3
   },
   "file_extension": ".py",
   "mimetype": "text/x-python",
   "name": "python",
   "nbconvert_exporter": "python",
   "pygments_lexer": "ipython3",
   "version": "3.7.1"
  }
 },
 "nbformat": 4,
 "nbformat_minor": 2
}
